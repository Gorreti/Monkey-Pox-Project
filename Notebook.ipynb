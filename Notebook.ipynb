{
 "cells": [
  {
   "cell_type": "markdown",
   "metadata": {},
   "source": [
    "# BUSINESS UNDERSTANDING"
   ]
  },
  {
   "cell_type": "markdown",
   "metadata": {},
   "source": [
    "## Overview"
   ]
  },
  {
   "cell_type": "markdown",
   "metadata": {},
   "source": [
    "According to the Centres for Disease Control and Prevention and World Health Organisation:\n",
    "\n",
    "* Monkeypox is an uncommon disease caused by infection with the monkeypox virus. The monkeypox virus belongs to the same family of viruses as the variola virus, which causes smallpox and chickenpox.\n",
    "* The ```first outbreaks``` of monkeypox were found in 1958 in colonies of monkeys kept for research. Despite being named “monkeypox” , the source of the disease remains unknown. However, African rodents and non-human primates (like monkeys) might harbour the virus and infect people. \n",
    "* The ```first human case``` of monkeypox was recorded in 1970. Prior to the 2022 outbreak in May, monkeypox had been reported in people in several central and western African countries. Previously, almost all monkeypox cases in people outside of Africa were linked to international travel to countries where the disease commonly occurs or through imported animals. These cases occurred on multiple continents.\n",
    "* ```Symptoms``` of monkeypox are similar to those of smallpox, but it is less contagious than smallpox and causes less severe illness.\n",
    "* ```Transmission```: Monkeypox is a viral zoonosis (virus transmitted to humans from animals)It is transmitted through close contact with an infected person or animal, body fluids, respiratory droplets and contaminated materials such as bedding."
   ]
  },
  {
   "cell_type": "markdown",
   "metadata": {},
   "source": [
    "## Problem Statement\n",
    "\n",
    "As more cases of monkeypox emerge, the world becomes increasingly concerned, as they do not want a repeat of what happened not too long ago, when the infamous Covid-19 broke out and altered the world as we know it. Faced with the reality that such viral diseases can actually shut down the planet, the organisation must develop ways to reduce the spread of this disease, enter Health authorities in the United Kingdom, they have established an incident management team to coordinate the extensive contact tracing  in regards to how quickly the virus can be transferred and, worse, mutate into a more lethal variant. \n",
    "\n",
    "As students of the Incident Management team we have been tasked to create a model to accurately identify potential infected persons in order for the team to carry out contact tracing and stop the spread."
   ]
  },
  {
   "cell_type": "markdown",
   "metadata": {},
   "source": [
    "## Proposed Solution\n",
    "\n",
    "One proposed solution is to cultivate the use of data in attempting to predict whether or not a person has monkeypox in order to make contact tracing easier."
   ]
  },
  {
   "cell_type": "markdown",
   "metadata": {},
   "source": [
    "## Justification of the Study\n",
    "\n",
    "The case fatality ratio for the  West African clade was  documented to be around 1%, whereas for the Congo Basin clade, it may be as high as 10%. Children are also at higher risk, and having monkeypox during pregnancy may lead to complications, congenital monkeypox or stillbirth, clearly the spread of this virus will be detrimental to us if not curbed."
   ]
  },
  {
   "cell_type": "markdown",
   "metadata": {},
   "source": [
    "## Specific Objectives\n",
    "\n",
    "* To analyse the various variables such as Sore Throat,Penile Oedema, Oral Lesions ,Systemic illness and STIs and know their relationship with monkeypox, and use that to predict if a patient has monkeypox\n",
    "* Identify the symptoms to look for in order to determine if you have the condition. \n",
    "* Give advice to the health organisations on  how best to help the public in detecting and preventing monkeypox transmission\n",
    "* To use different models to predict monkeypox "
   ]
  },
  {
   "cell_type": "markdown",
   "metadata": {},
   "source": [
    "## Research Questions\n",
    "\n",
    "* Which symptom has the highest correlation to monkeypox ?\n",
    "* Which symptom has the lowest correlation to monkeypox ?\n",
    "* Which model best predicts monkeypox disease?"
   ]
  },
  {
   "cell_type": "markdown",
   "metadata": {},
   "source": [
    "## Success Criteria\n",
    "\n",
    "Tentatively, the study will be judged a success if: We build a model to predict monkeypox with an accuracy,precision and recall of 70% or more in classification\n"
   ]
  },
  {
   "cell_type": "code",
   "execution_count": null,
   "metadata": {},
   "outputs": [],
   "source": []
  }
 ],
 "metadata": {
  "language_info": {
   "name": "python"
  },
  "orig_nbformat": 4
 },
 "nbformat": 4,
 "nbformat_minor": 2
}
